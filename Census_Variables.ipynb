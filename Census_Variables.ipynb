{
  "nbformat": 4,
  "nbformat_minor": 0,
  "metadata": {
    "colab": {
      "provenance": []
    },
    "kernelspec": {
      "name": "python3",
      "display_name": "Python 3"
    },
    "language_info": {
      "name": "python"
    }
  },
  "cells": [
    {
      "cell_type": "code",
      "source": [
        "import codecademylib3\n",
        "\n",
        "# Import pandas with alias\n",
        "import pandas as pd\n",
        "\n",
        "# Read in the census dataframe\n",
        "census = pd.read_csv('census_data.csv', index_col=0)\n",
        "#first 5 rows\n",
        "print(census.head())\n",
        "#dtypes\n",
        "print(census.dtypes)\n",
        "census['birth_year'].replace({'missing':'1967'},inplace=True)\n",
        "census['birth_year']=census['birth_year'].astype('int64')\n",
        "\n",
        "print(census.birth_year.unique())\n",
        "#checking dtypes to confirm change\n",
        "print(census.dtypes)\n",
        "#mean birth year\n",
        "print(census.birth_year.mean())\n",
        "census['higher_tax'] = pd.Categorical(census['higher_tax'],['strongly disagree','disagree','neutral','agree','strongly agree'],ordered=True)\n",
        "print(census['higher_tax'].unique())\n",
        "#median sentiment; using 'higher_tax'\n",
        "census['higher_tax'] = census['higher_tax'].cat.codes\n",
        "print(census.higher_tax.median())\n",
        "\n",
        "census = pd.get_dummies(data=census,columns=['marital_status'])\n",
        "\n",
        "print(census.head())"
      ],
      "metadata": {
        "id": "XgyFgVMsUoOj"
      },
      "execution_count": null,
      "outputs": []
    }
  ]
}